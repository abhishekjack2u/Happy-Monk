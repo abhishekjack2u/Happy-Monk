{
  "nbformat": 4,
  "nbformat_minor": 0,
  "metadata": {
    "colab": {
      "name": "banknote_project.ipynb",
      "provenance": []
    },
    "kernelspec": {
      "name": "python3",
      "display_name": "Python 3"
    },
    "language_info": {
      "name": "python"
    }
  },
  "cells": [
    {
      "cell_type": "markdown",
      "metadata": {
        "id": "tTqo5TMNJroS"
      },
      "source": [
        "Loading the dataset of bank note:"
      ]
    },
    {
      "cell_type": "code",
      "metadata": {
        "id": "VLoO60F5JPrt"
      },
      "source": [
        "from pandas import read_csv\n",
        "from sklearn.model_selection import train_test_split\n",
        "from sklearn.preprocessing import LabelEncoder\n",
        "from sklearn.metrics import accuracy_score\n",
        "from tensorflow.keras import Sequential\n",
        "from tensorflow.keras.layers import Dense\n",
        "from matplotlib import pyplot"
      ],
      "execution_count": 1,
      "outputs": []
    },
    {
      "cell_type": "markdown",
      "metadata": {
        "id": "Hjd-3M7JV7TI"
      },
      "source": [
        "Importing the required libraries for Deep learning neural network and data preprocessing."
      ]
    },
    {
      "cell_type": "code",
      "metadata": {
        "id": "ud06FERcJjjG"
      },
      "source": [
        "path = 'https://raw.githubusercontent.com/jbrownlee/Datasets/master/banknote_authentication.csv'\n",
        "df = read_csv(path,header=None)"
      ],
      "execution_count": 2,
      "outputs": []
    },
    {
      "cell_type": "markdown",
      "metadata": {
        "id": "Dv5KYPwDWFub"
      },
      "source": [
        "Loading the dataset from the gitub resources. The dataset is of Bank_Note.\n",
        "Converting the dataset into data frame using pandas library."
      ]
    },
    {
      "cell_type": "code",
      "metadata": {
        "colab": {
          "base_uri": "https://localhost:8080/",
          "height": 419
        },
        "id": "SO06LOP-JjmN",
        "outputId": "ddda631f-247a-4211-ebd5-2d6b582bd88e"
      },
      "source": [
        "df"
      ],
      "execution_count": 3,
      "outputs": [
        {
          "output_type": "execute_result",
          "data": {
            "text/html": [
              "<div>\n",
              "<style scoped>\n",
              "    .dataframe tbody tr th:only-of-type {\n",
              "        vertical-align: middle;\n",
              "    }\n",
              "\n",
              "    .dataframe tbody tr th {\n",
              "        vertical-align: top;\n",
              "    }\n",
              "\n",
              "    .dataframe thead th {\n",
              "        text-align: right;\n",
              "    }\n",
              "</style>\n",
              "<table border=\"1\" class=\"dataframe\">\n",
              "  <thead>\n",
              "    <tr style=\"text-align: right;\">\n",
              "      <th></th>\n",
              "      <th>0</th>\n",
              "      <th>1</th>\n",
              "      <th>2</th>\n",
              "      <th>3</th>\n",
              "      <th>4</th>\n",
              "    </tr>\n",
              "  </thead>\n",
              "  <tbody>\n",
              "    <tr>\n",
              "      <th>0</th>\n",
              "      <td>3.62160</td>\n",
              "      <td>8.66610</td>\n",
              "      <td>-2.8073</td>\n",
              "      <td>-0.44699</td>\n",
              "      <td>0</td>\n",
              "    </tr>\n",
              "    <tr>\n",
              "      <th>1</th>\n",
              "      <td>4.54590</td>\n",
              "      <td>8.16740</td>\n",
              "      <td>-2.4586</td>\n",
              "      <td>-1.46210</td>\n",
              "      <td>0</td>\n",
              "    </tr>\n",
              "    <tr>\n",
              "      <th>2</th>\n",
              "      <td>3.86600</td>\n",
              "      <td>-2.63830</td>\n",
              "      <td>1.9242</td>\n",
              "      <td>0.10645</td>\n",
              "      <td>0</td>\n",
              "    </tr>\n",
              "    <tr>\n",
              "      <th>3</th>\n",
              "      <td>3.45660</td>\n",
              "      <td>9.52280</td>\n",
              "      <td>-4.0112</td>\n",
              "      <td>-3.59440</td>\n",
              "      <td>0</td>\n",
              "    </tr>\n",
              "    <tr>\n",
              "      <th>4</th>\n",
              "      <td>0.32924</td>\n",
              "      <td>-4.45520</td>\n",
              "      <td>4.5718</td>\n",
              "      <td>-0.98880</td>\n",
              "      <td>0</td>\n",
              "    </tr>\n",
              "    <tr>\n",
              "      <th>...</th>\n",
              "      <td>...</td>\n",
              "      <td>...</td>\n",
              "      <td>...</td>\n",
              "      <td>...</td>\n",
              "      <td>...</td>\n",
              "    </tr>\n",
              "    <tr>\n",
              "      <th>1367</th>\n",
              "      <td>0.40614</td>\n",
              "      <td>1.34920</td>\n",
              "      <td>-1.4501</td>\n",
              "      <td>-0.55949</td>\n",
              "      <td>1</td>\n",
              "    </tr>\n",
              "    <tr>\n",
              "      <th>1368</th>\n",
              "      <td>-1.38870</td>\n",
              "      <td>-4.87730</td>\n",
              "      <td>6.4774</td>\n",
              "      <td>0.34179</td>\n",
              "      <td>1</td>\n",
              "    </tr>\n",
              "    <tr>\n",
              "      <th>1369</th>\n",
              "      <td>-3.75030</td>\n",
              "      <td>-13.45860</td>\n",
              "      <td>17.5932</td>\n",
              "      <td>-2.77710</td>\n",
              "      <td>1</td>\n",
              "    </tr>\n",
              "    <tr>\n",
              "      <th>1370</th>\n",
              "      <td>-3.56370</td>\n",
              "      <td>-8.38270</td>\n",
              "      <td>12.3930</td>\n",
              "      <td>-1.28230</td>\n",
              "      <td>1</td>\n",
              "    </tr>\n",
              "    <tr>\n",
              "      <th>1371</th>\n",
              "      <td>-2.54190</td>\n",
              "      <td>-0.65804</td>\n",
              "      <td>2.6842</td>\n",
              "      <td>1.19520</td>\n",
              "      <td>1</td>\n",
              "    </tr>\n",
              "  </tbody>\n",
              "</table>\n",
              "<p>1372 rows × 5 columns</p>\n",
              "</div>"
            ],
            "text/plain": [
              "            0         1        2        3  4\n",
              "0     3.62160   8.66610  -2.8073 -0.44699  0\n",
              "1     4.54590   8.16740  -2.4586 -1.46210  0\n",
              "2     3.86600  -2.63830   1.9242  0.10645  0\n",
              "3     3.45660   9.52280  -4.0112 -3.59440  0\n",
              "4     0.32924  -4.45520   4.5718 -0.98880  0\n",
              "...       ...       ...      ...      ... ..\n",
              "1367  0.40614   1.34920  -1.4501 -0.55949  1\n",
              "1368 -1.38870  -4.87730   6.4774  0.34179  1\n",
              "1369 -3.75030 -13.45860  17.5932 -2.77710  1\n",
              "1370 -3.56370  -8.38270  12.3930 -1.28230  1\n",
              "1371 -2.54190  -0.65804   2.6842  1.19520  1\n",
              "\n",
              "[1372 rows x 5 columns]"
            ]
          },
          "metadata": {
            "tags": []
          },
          "execution_count": 3
        }
      ]
    },
    {
      "cell_type": "markdown",
      "metadata": {
        "id": "DLP0ePZoWOPw"
      },
      "source": [
        "Visaulizing the data frame."
      ]
    },
    {
      "cell_type": "code",
      "metadata": {
        "colab": {
          "base_uri": "https://localhost:8080/"
        },
        "id": "rAerZp_2J1hs",
        "outputId": "360e994d-e115-4d91-e995-e8ee328185bf"
      },
      "source": [
        "df.isnull().sum()"
      ],
      "execution_count": 4,
      "outputs": [
        {
          "output_type": "execute_result",
          "data": {
            "text/plain": [
              "0    0\n",
              "1    0\n",
              "2    0\n",
              "3    0\n",
              "4    0\n",
              "dtype: int64"
            ]
          },
          "metadata": {
            "tags": []
          },
          "execution_count": 4
        }
      ]
    },
    {
      "cell_type": "markdown",
      "metadata": {
        "id": "69obNMdfWb1Q"
      },
      "source": [
        "Checking the null values in the dataset.\n",
        "Since there are no null values the we are procedding with the data preprocessing part."
      ]
    },
    {
      "cell_type": "code",
      "metadata": {
        "colab": {
          "base_uri": "https://localhost:8080/"
        },
        "id": "7N0svqFjKKf7",
        "outputId": "e11afce4-3e3b-4320-ebda-b62c1d7c7656"
      },
      "source": [
        "df[4].value_counts()"
      ],
      "execution_count": 5,
      "outputs": [
        {
          "output_type": "execute_result",
          "data": {
            "text/plain": [
              "0    762\n",
              "1    610\n",
              "Name: 4, dtype: int64"
            ]
          },
          "metadata": {
            "tags": []
          },
          "execution_count": 5
        }
      ]
    },
    {
      "cell_type": "markdown",
      "metadata": {
        "id": "zYTu0EfcWlP4"
      },
      "source": [
        "Checking the number of categories in the target column."
      ]
    },
    {
      "cell_type": "code",
      "metadata": {
        "colab": {
          "base_uri": "https://localhost:8080/"
        },
        "id": "XS43WzmGJ4v8",
        "outputId": "833bbe82-6bd9-4974-f461-1903059272cc"
      },
      "source": [
        "df.info()"
      ],
      "execution_count": 6,
      "outputs": [
        {
          "output_type": "stream",
          "text": [
            "<class 'pandas.core.frame.DataFrame'>\n",
            "RangeIndex: 1372 entries, 0 to 1371\n",
            "Data columns (total 5 columns):\n",
            " #   Column  Non-Null Count  Dtype  \n",
            "---  ------  --------------  -----  \n",
            " 0   0       1372 non-null   float64\n",
            " 1   1       1372 non-null   float64\n",
            " 2   2       1372 non-null   float64\n",
            " 3   3       1372 non-null   float64\n",
            " 4   4       1372 non-null   int64  \n",
            "dtypes: float64(4), int64(1)\n",
            "memory usage: 53.7 KB\n"
          ],
          "name": "stdout"
        }
      ]
    },
    {
      "cell_type": "markdown",
      "metadata": {
        "id": "qEtz5dAYWsLc"
      },
      "source": [
        "The above piece of code helps in getting the information of the dataset like column data types and name of the column and if there is null values in the dataset or not."
      ]
    },
    {
      "cell_type": "code",
      "metadata": {
        "colab": {
          "base_uri": "https://localhost:8080/",
          "height": 297
        },
        "id": "oq5P9v82J7W7",
        "outputId": "11d2f214-137d-4eae-bf9d-f9b805407b87"
      },
      "source": [
        "df.describe()"
      ],
      "execution_count": 7,
      "outputs": [
        {
          "output_type": "execute_result",
          "data": {
            "text/html": [
              "<div>\n",
              "<style scoped>\n",
              "    .dataframe tbody tr th:only-of-type {\n",
              "        vertical-align: middle;\n",
              "    }\n",
              "\n",
              "    .dataframe tbody tr th {\n",
              "        vertical-align: top;\n",
              "    }\n",
              "\n",
              "    .dataframe thead th {\n",
              "        text-align: right;\n",
              "    }\n",
              "</style>\n",
              "<table border=\"1\" class=\"dataframe\">\n",
              "  <thead>\n",
              "    <tr style=\"text-align: right;\">\n",
              "      <th></th>\n",
              "      <th>0</th>\n",
              "      <th>1</th>\n",
              "      <th>2</th>\n",
              "      <th>3</th>\n",
              "      <th>4</th>\n",
              "    </tr>\n",
              "  </thead>\n",
              "  <tbody>\n",
              "    <tr>\n",
              "      <th>count</th>\n",
              "      <td>1372.000000</td>\n",
              "      <td>1372.000000</td>\n",
              "      <td>1372.000000</td>\n",
              "      <td>1372.000000</td>\n",
              "      <td>1372.000000</td>\n",
              "    </tr>\n",
              "    <tr>\n",
              "      <th>mean</th>\n",
              "      <td>0.433735</td>\n",
              "      <td>1.922353</td>\n",
              "      <td>1.397627</td>\n",
              "      <td>-1.191657</td>\n",
              "      <td>0.444606</td>\n",
              "    </tr>\n",
              "    <tr>\n",
              "      <th>std</th>\n",
              "      <td>2.842763</td>\n",
              "      <td>5.869047</td>\n",
              "      <td>4.310030</td>\n",
              "      <td>2.101013</td>\n",
              "      <td>0.497103</td>\n",
              "    </tr>\n",
              "    <tr>\n",
              "      <th>min</th>\n",
              "      <td>-7.042100</td>\n",
              "      <td>-13.773100</td>\n",
              "      <td>-5.286100</td>\n",
              "      <td>-8.548200</td>\n",
              "      <td>0.000000</td>\n",
              "    </tr>\n",
              "    <tr>\n",
              "      <th>25%</th>\n",
              "      <td>-1.773000</td>\n",
              "      <td>-1.708200</td>\n",
              "      <td>-1.574975</td>\n",
              "      <td>-2.413450</td>\n",
              "      <td>0.000000</td>\n",
              "    </tr>\n",
              "    <tr>\n",
              "      <th>50%</th>\n",
              "      <td>0.496180</td>\n",
              "      <td>2.319650</td>\n",
              "      <td>0.616630</td>\n",
              "      <td>-0.586650</td>\n",
              "      <td>0.000000</td>\n",
              "    </tr>\n",
              "    <tr>\n",
              "      <th>75%</th>\n",
              "      <td>2.821475</td>\n",
              "      <td>6.814625</td>\n",
              "      <td>3.179250</td>\n",
              "      <td>0.394810</td>\n",
              "      <td>1.000000</td>\n",
              "    </tr>\n",
              "    <tr>\n",
              "      <th>max</th>\n",
              "      <td>6.824800</td>\n",
              "      <td>12.951600</td>\n",
              "      <td>17.927400</td>\n",
              "      <td>2.449500</td>\n",
              "      <td>1.000000</td>\n",
              "    </tr>\n",
              "  </tbody>\n",
              "</table>\n",
              "</div>"
            ],
            "text/plain": [
              "                 0            1            2            3            4\n",
              "count  1372.000000  1372.000000  1372.000000  1372.000000  1372.000000\n",
              "mean      0.433735     1.922353     1.397627    -1.191657     0.444606\n",
              "std       2.842763     5.869047     4.310030     2.101013     0.497103\n",
              "min      -7.042100   -13.773100    -5.286100    -8.548200     0.000000\n",
              "25%      -1.773000    -1.708200    -1.574975    -2.413450     0.000000\n",
              "50%       0.496180     2.319650     0.616630    -0.586650     0.000000\n",
              "75%       2.821475     6.814625     3.179250     0.394810     1.000000\n",
              "max       6.824800    12.951600    17.927400     2.449500     1.000000"
            ]
          },
          "metadata": {
            "tags": []
          },
          "execution_count": 7
        }
      ]
    },
    {
      "cell_type": "markdown",
      "metadata": {
        "id": "b7wNa5OBXi_L"
      },
      "source": [
        "The above code helps in getting the complete description of the dataset. It helps in understanding the distribution of the dataset."
      ]
    },
    {
      "cell_type": "code",
      "metadata": {
        "id": "147AJINnKDD7"
      },
      "source": [
        "import seaborn as sns"
      ],
      "execution_count": 8,
      "outputs": []
    },
    {
      "cell_type": "markdown",
      "metadata": {
        "id": "RM_qesljXwXf"
      },
      "source": [
        "Import seaborn libraries for data visualization."
      ]
    },
    {
      "cell_type": "code",
      "metadata": {
        "colab": {
          "base_uri": "https://localhost:8080/",
          "height": 350
        },
        "id": "C8YFk6bhKFzz",
        "outputId": "1737420e-47ef-46af-e866-9fcc837752a0"
      },
      "source": [
        "sns.distplot(df[0])"
      ],
      "execution_count": 9,
      "outputs": [
        {
          "output_type": "stream",
          "text": [
            "/usr/local/lib/python3.7/dist-packages/seaborn/distributions.py:2557: FutureWarning: `distplot` is a deprecated function and will be removed in a future version. Please adapt your code to use either `displot` (a figure-level function with similar flexibility) or `histplot` (an axes-level function for histograms).\n",
            "  warnings.warn(msg, FutureWarning)\n"
          ],
          "name": "stderr"
        },
        {
          "output_type": "execute_result",
          "data": {
            "text/plain": [
              "<matplotlib.axes._subplots.AxesSubplot at 0x7fe71069a450>"
            ]
          },
          "metadata": {
            "tags": []
          },
          "execution_count": 9
        },
        {
          "output_type": "display_data",
          "data": {
            "image/png": "[encoded data removed]",
            "text/plain": [
              "<Figure size 432x288 with 1 Axes>"
            ]
          },
          "metadata": {
            "tags": [],
            "needs_background": "light"
          }
        }
      ]
    },
    {
      "cell_type": "markdown",
      "metadata": {
        "id": "4Xmmn6QtX3B5"
      },
      "source": [
        "Checking the distribution of the first column."
      ]
    },
    {
      "cell_type": "code",
      "metadata": {
        "colab": {
          "base_uri": "https://localhost:8080/",
          "height": 350
        },
        "id": "pBNG2FRTKTKb",
        "outputId": "d0cc94c1-af71-4866-e7c9-e8843990d8b7"
      },
      "source": [
        "sns.distplot(df[1])"
      ],
      "execution_count": 10,
      "outputs": [
        {
          "output_type": "stream",
          "text": [
            "/usr/local/lib/python3.7/dist-packages/seaborn/distributions.py:2557: FutureWarning: `distplot` is a deprecated function and will be removed in a future version. Please adapt your code to use either `displot` (a figure-level function with similar flexibility) or `histplot` (an axes-level function for histograms).\n",
            "  warnings.warn(msg, FutureWarning)\n"
          ],
          "name": "stderr"
        },
        {
          "output_type": "execute_result",
          "data": {
            "text/plain": [
              "<matplotlib.axes._subplots.AxesSubplot at 0x7fe70ceccfd0>"
            ]
          },
          "metadata": {
            "tags": []
          },
          "execution_count": 10
        },
        {
          "output_type": "display_data",
          "data": {
            "image/png": "[encoded data removed]",
            "text/plain": [
              "<Figure size 432x288 with 1 Axes>"
            ]
          },
          "metadata": {
            "tags": [],
            "needs_background": "light"
          }
        }
      ]
    },
    {
      "cell_type": "markdown",
      "metadata": {
        "id": "13CU9BveX8eJ"
      },
      "source": [
        "Checking the distribution of the second column."
      ]
    },
    {
      "cell_type": "code",
      "metadata": {
        "colab": {
          "base_uri": "https://localhost:8080/",
          "height": 350
        },
        "id": "Q7TX3wX4KWF7",
        "outputId": "8ca3e3ff-7f59-4dc2-d1ac-9c3a2f87c017"
      },
      "source": [
        "sns.distplot(df[2])"
      ],
      "execution_count": 11,
      "outputs": [
        {
          "output_type": "stream",
          "text": [
            "/usr/local/lib/python3.7/dist-packages/seaborn/distributions.py:2557: FutureWarning: `distplot` is a deprecated function and will be removed in a future version. Please adapt your code to use either `displot` (a figure-level function with similar flexibility) or `histplot` (an axes-level function for histograms).\n",
            "  warnings.warn(msg, FutureWarning)\n"
          ],
          "name": "stderr"
        },
        {
          "output_type": "execute_result",
          "data": {
            "text/plain": [
              "<matplotlib.axes._subplots.AxesSubplot at 0x7fe70ce81bd0>"
            ]
          },
          "metadata": {
            "tags": []
          },
          "execution_count": 11
        },
        {
          "output_type": "display_data",
          "data": {
            "image/png": "[encoded data removed]",
            "text/plain": [
              "<Figure size 432x288 with 1 Axes>"
            ]
          },
          "metadata": {
            "tags": [],
            "needs_background": "light"
          }
        }
      ]
    },
    {
      "cell_type": "markdown",
      "metadata": {
        "id": "EszL76uFX-rO"
      },
      "source": [
        "Checking the distribution of the third column."
      ]
    },
    {
      "cell_type": "code",
      "metadata": {
        "colab": {
          "base_uri": "https://localhost:8080/",
          "height": 350
        },
        "id": "Y0XMswIlKYlT",
        "outputId": "eb073473-76f5-4b4c-c474-ca7e976de76b"
      },
      "source": [
        "sns.distplot(df[3])"
      ],
      "execution_count": 12,
      "outputs": [
        {
          "output_type": "stream",
          "text": [
            "/usr/local/lib/python3.7/dist-packages/seaborn/distributions.py:2557: FutureWarning: `distplot` is a deprecated function and will be removed in a future version. Please adapt your code to use either `displot` (a figure-level function with similar flexibility) or `histplot` (an axes-level function for histograms).\n",
            "  warnings.warn(msg, FutureWarning)\n"
          ],
          "name": "stderr"
        },
        {
          "output_type": "execute_result",
          "data": {
            "text/plain": [
              "<matplotlib.axes._subplots.AxesSubplot at 0x7fe70cdfefd0>"
            ]
          },
          "metadata": {
            "tags": []
          },
          "execution_count": 12
        },
        {
          "output_type": "display_data",
          "data": {
            "image/png": "[encoded data removed]",
            "text/plain": [
              "<Figure size 432x288 with 1 Axes>"
            ]
          },
          "metadata": {
            "tags": [],
            "needs_background": "light"
          }
        }
      ]
    },
    {
      "cell_type": "markdown",
      "metadata": {
        "id": "EBDEykYTYCTQ"
      },
      "source": [
        "Checking the distribution of the fourth column."
      ]
    },
    {
      "cell_type": "code",
      "metadata": {
        "colab": {
          "base_uri": "https://localhost:8080/",
          "height": 354
        },
        "id": "iChgLsvcKcTW",
        "outputId": "97fd50a5-39ed-4443-8517-3ccd8f99b95a"
      },
      "source": [
        "sns.countplot(df[4])"
      ],
      "execution_count": 13,
      "outputs": [
        {
          "output_type": "stream",
          "text": [
            "/usr/local/lib/python3.7/dist-packages/seaborn/_decorators.py:43: FutureWarning: Pass the following variable as a keyword arg: x. From version 0.12, the only valid positional argument will be `data`, and passing other arguments without an explicit keyword will result in an error or misinterpretation.\n",
            "  FutureWarning\n"
          ],
          "name": "stderr"
        },
        {
          "output_type": "execute_result",
          "data": {
            "text/plain": [
              "<matplotlib.axes._subplots.AxesSubplot at 0x7fe70cd368d0>"
            ]
          },
          "metadata": {
            "tags": []
          },
          "execution_count": 13
        },
        {
          "output_type": "display_data",
          "data": {
            "image/png": "[encoded data removed]",
            "text/plain": [
              "<Figure size 432x288 with 1 Axes>"
            ]
          },
          "metadata": {
            "tags": [],
            "needs_background": "light"
          }
        }
      ]
    },
    {
      "cell_type": "markdown",
      "metadata": {
        "id": "5vrRTO5_YFGR"
      },
      "source": [
        "Checking the number of categories of the fifth column."
      ]
    },
    {
      "cell_type": "code",
      "metadata": {
        "colab": {
          "base_uri": "https://localhost:8080/"
        },
        "id": "QPiBEyBkKhsU",
        "outputId": "c69ab3f3-9a8e-4ed2-8e3c-3d7a84460a6d"
      },
      "source": [
        "df[4].value_counts()"
      ],
      "execution_count": 117,
      "outputs": [
        {
          "output_type": "execute_result",
          "data": {
            "text/plain": [
              "0    762\n",
              "1    610\n",
              "Name: 4, dtype: int64"
            ]
          },
          "metadata": {
            "tags": []
          },
          "execution_count": 117
        }
      ]
    },
    {
      "cell_type": "code",
      "metadata": {
        "colab": {
          "base_uri": "https://localhost:8080/"
        },
        "id": "iQb8ynd7LhO9",
        "outputId": "46fc67d3-404f-44e0-9632-ae10e509fa6f"
      },
      "source": [
        "df.skew()"
      ],
      "execution_count": 15,
      "outputs": [
        {
          "output_type": "execute_result",
          "data": {
            "text/plain": [
              "0   -0.149388\n",
              "1   -0.394103\n",
              "2    1.088569\n",
              "3   -1.022243\n",
              "4    0.223191\n",
              "dtype: float64"
            ]
          },
          "metadata": {
            "tags": []
          },
          "execution_count": 15
        }
      ]
    },
    {
      "cell_type": "markdown",
      "metadata": {
        "id": "avAYxYgUYK00"
      },
      "source": [
        "Cheking the skewness of the dataset column. Here, we will proceed with the range of -0.5 to +0.5 skewness."
      ]
    },
    {
      "cell_type": "code",
      "metadata": {
        "id": "QS33YVpKLs7D"
      },
      "source": [
        "from sklearn.preprocessing import power_transform"
      ],
      "execution_count": 16,
      "outputs": []
    },
    {
      "cell_type": "markdown",
      "metadata": {
        "id": "uOVKVB0_YVFG"
      },
      "source": [
        "Importing libraries to remove the skewness."
      ]
    },
    {
      "cell_type": "code",
      "metadata": {
        "id": "36AbsqNiL8zL"
      },
      "source": [
        "x=df.iloc[:,:-1].values"
      ],
      "execution_count": 17,
      "outputs": []
    },
    {
      "cell_type": "markdown",
      "metadata": {
        "id": "HgR79bfcYY3Q"
      },
      "source": [
        "Separating feature and target column."
      ]
    },
    {
      "cell_type": "code",
      "metadata": {
        "colab": {
          "base_uri": "https://localhost:8080/"
        },
        "id": "5H5jfSCRL82e",
        "outputId": "56667852-72cf-4459-b7d3-63648766620c"
      },
      "source": [
        "x"
      ],
      "execution_count": 18,
      "outputs": [
        {
          "output_type": "execute_result",
          "data": {
            "text/plain": [
              "array([[  3.6216 ,   8.6661 ,  -2.8073 ,  -0.44699],\n",
              "       [  4.5459 ,   8.1674 ,  -2.4586 ,  -1.4621 ],\n",
              "       [  3.866  ,  -2.6383 ,   1.9242 ,   0.10645],\n",
              "       ...,\n",
              "       [ -3.7503 , -13.4586 ,  17.5932 ,  -2.7771 ],\n",
              "       [ -3.5637 ,  -8.3827 ,  12.393  ,  -1.2823 ],\n",
              "       [ -2.5419 ,  -0.65804,   2.6842 ,   1.1952 ]])"
            ]
          },
          "metadata": {
            "tags": []
          },
          "execution_count": 18
        }
      ]
    },
    {
      "cell_type": "code",
      "metadata": {
        "id": "8Fh5YnXBL85b"
      },
      "source": [
        "y=df.iloc[:,-1].values"
      ],
      "execution_count": 19,
      "outputs": []
    },
    {
      "cell_type": "code",
      "metadata": {
        "colab": {
          "base_uri": "https://localhost:8080/"
        },
        "id": "v0ntg7T9L88T",
        "outputId": "adc48f90-2f78-499a-f98d-408f41df27df"
      },
      "source": [
        "y"
      ],
      "execution_count": 20,
      "outputs": [
        {
          "output_type": "execute_result",
          "data": {
            "text/plain": [
              "array([0, 0, 0, ..., 1, 1, 1])"
            ]
          },
          "metadata": {
            "tags": []
          },
          "execution_count": 20
        }
      ]
    },
    {
      "cell_type": "code",
      "metadata": {
        "id": "kjk775EwapVp"
      },
      "source": [
        "import pandas as pd"
      ],
      "execution_count": 21,
      "outputs": []
    },
    {
      "cell_type": "markdown",
      "metadata": {
        "id": "Z55NNNsNYeNQ"
      },
      "source": [
        "Converting target column into dataframe so that it will be concated later."
      ]
    },
    {
      "cell_type": "code",
      "metadata": {
        "id": "oG0DYZeUVlMJ"
      },
      "source": [
        "y=pd.DataFrame(y,columns=[4])"
      ],
      "execution_count": 22,
      "outputs": []
    },
    {
      "cell_type": "code",
      "metadata": {
        "colab": {
          "base_uri": "https://localhost:8080/",
          "height": 419
        },
        "id": "t1NKv-3pVsUa",
        "outputId": "01b0eff8-e0ba-45e9-9b6a-a521b80d8b20"
      },
      "source": [
        "y"
      ],
      "execution_count": 23,
      "outputs": [
        {
          "output_type": "execute_result",
          "data": {
            "text/html": [
              "<div>\n",
              "<style scoped>\n",
              "    .dataframe tbody tr th:only-of-type {\n",
              "        vertical-align: middle;\n",
              "    }\n",
              "\n",
              "    .dataframe tbody tr th {\n",
              "        vertical-align: top;\n",
              "    }\n",
              "\n",
              "    .dataframe thead th {\n",
              "        text-align: right;\n",
              "    }\n",
              "</style>\n",
              "<table border=\"1\" class=\"dataframe\">\n",
              "  <thead>\n",
              "    <tr style=\"text-align: right;\">\n",
              "      <th></th>\n",
              "      <th>4</th>\n",
              "    </tr>\n",
              "  </thead>\n",
              "  <tbody>\n",
              "    <tr>\n",
              "      <th>0</th>\n",
              "      <td>0</td>\n",
              "    </tr>\n",
              "    <tr>\n",
              "      <th>1</th>\n",
              "      <td>0</td>\n",
              "    </tr>\n",
              "    <tr>\n",
              "      <th>2</th>\n",
              "      <td>0</td>\n",
              "    </tr>\n",
              "    <tr>\n",
              "      <th>3</th>\n",
              "      <td>0</td>\n",
              "    </tr>\n",
              "    <tr>\n",
              "      <th>4</th>\n",
              "      <td>0</td>\n",
              "    </tr>\n",
              "    <tr>\n",
              "      <th>...</th>\n",
              "      <td>...</td>\n",
              "    </tr>\n",
              "    <tr>\n",
              "      <th>1367</th>\n",
              "      <td>1</td>\n",
              "    </tr>\n",
              "    <tr>\n",
              "      <th>1368</th>\n",
              "      <td>1</td>\n",
              "    </tr>\n",
              "    <tr>\n",
              "      <th>1369</th>\n",
              "      <td>1</td>\n",
              "    </tr>\n",
              "    <tr>\n",
              "      <th>1370</th>\n",
              "      <td>1</td>\n",
              "    </tr>\n",
              "    <tr>\n",
              "      <th>1371</th>\n",
              "      <td>1</td>\n",
              "    </tr>\n",
              "  </tbody>\n",
              "</table>\n",
              "<p>1372 rows × 1 columns</p>\n",
              "</div>"
            ],
            "text/plain": [
              "      4\n",
              "0     0\n",
              "1     0\n",
              "2     0\n",
              "3     0\n",
              "4     0\n",
              "...  ..\n",
              "1367  1\n",
              "1368  1\n",
              "1369  1\n",
              "1370  1\n",
              "1371  1\n",
              "\n",
              "[1372 rows x 1 columns]"
            ]
          },
          "metadata": {
            "tags": []
          },
          "execution_count": 23
        }
      ]
    },
    {
      "cell_type": "code",
      "metadata": {
        "id": "0ZVNLwKfMKjT"
      },
      "source": [
        "x=power_transform(x,method=\"yeo-johnson\")"
      ],
      "execution_count": 24,
      "outputs": []
    },
    {
      "cell_type": "markdown",
      "metadata": {
        "id": "9onD3q6yYm2w"
      },
      "source": [
        "Removing skewness from fatures column."
      ]
    },
    {
      "cell_type": "code",
      "metadata": {
        "colab": {
          "base_uri": "https://localhost:8080/"
        },
        "id": "aBEYC-ioMKmF",
        "outputId": "b60efff7-8357-4fbd-ab7f-891d23d598ac"
      },
      "source": [
        "x"
      ],
      "execution_count": 25,
      "outputs": [
        {
          "output_type": "execute_result",
          "data": {
            "text/plain": [
              "array([[ 1.13320374,  1.21271952, -1.13217899,  0.12483763],\n",
              "       [ 1.47592726,  1.11253633, -0.99001798, -0.38190021],\n",
              "       [ 1.22360846, -0.82552124,  0.33227324,  0.49342088],\n",
              "       ...,\n",
              "       [-1.44737283, -2.29008695,  2.70060973, -0.88382474],\n",
              "       [-1.38548467, -1.6239021 ,  2.02428279, -0.30227217],\n",
              "       [-1.04489549, -0.52729841,  0.48626864,  1.53319498]])"
            ]
          },
          "metadata": {
            "tags": []
          },
          "execution_count": 25
        }
      ]
    },
    {
      "cell_type": "code",
      "metadata": {
        "id": "P8NpTzsHMKo0"
      },
      "source": [
        "import pandas as pd\n",
        "df_copy=pd.DataFrame(x)"
      ],
      "execution_count": 26,
      "outputs": []
    },
    {
      "cell_type": "markdown",
      "metadata": {
        "id": "sMCjzTMIYtR5"
      },
      "source": [
        "Converting features column in dataset."
      ]
    },
    {
      "cell_type": "code",
      "metadata": {
        "colab": {
          "base_uri": "https://localhost:8080/",
          "height": 419
        },
        "id": "Q8mBdW3ZNy-E",
        "outputId": "4c20cf18-145c-4858-af32-eef70fa19037"
      },
      "source": [
        "df_copy"
      ],
      "execution_count": 27,
      "outputs": [
        {
          "output_type": "execute_result",
          "data": {
            "text/html": [
              "<div>\n",
              "<style scoped>\n",
              "    .dataframe tbody tr th:only-of-type {\n",
              "        vertical-align: middle;\n",
              "    }\n",
              "\n",
              "    .dataframe tbody tr th {\n",
              "        vertical-align: top;\n",
              "    }\n",
              "\n",
              "    .dataframe thead th {\n",
              "        text-align: right;\n",
              "    }\n",
              "</style>\n",
              "<table border=\"1\" class=\"dataframe\">\n",
              "  <thead>\n",
              "    <tr style=\"text-align: right;\">\n",
              "      <th></th>\n",
              "      <th>0</th>\n",
              "      <th>1</th>\n",
              "      <th>2</th>\n",
              "      <th>3</th>\n",
              "    </tr>\n",
              "  </thead>\n",
              "  <tbody>\n",
              "    <tr>\n",
              "      <th>0</th>\n",
              "      <td>1.133204</td>\n",
              "      <td>1.212720</td>\n",
              "      <td>-1.132179</td>\n",
              "      <td>0.124838</td>\n",
              "    </tr>\n",
              "    <tr>\n",
              "      <th>1</th>\n",
              "      <td>1.475927</td>\n",
              "      <td>1.112536</td>\n",
              "      <td>-0.990018</td>\n",
              "      <td>-0.381900</td>\n",
              "    </tr>\n",
              "    <tr>\n",
              "      <th>2</th>\n",
              "      <td>1.223608</td>\n",
              "      <td>-0.825521</td>\n",
              "      <td>0.332273</td>\n",
              "      <td>0.493421</td>\n",
              "    </tr>\n",
              "    <tr>\n",
              "      <th>3</th>\n",
              "      <td>1.072264</td>\n",
              "      <td>1.385902</td>\n",
              "      <td>-1.650225</td>\n",
              "      <td>-1.146542</td>\n",
              "    </tr>\n",
              "    <tr>\n",
              "      <th>4</th>\n",
              "      <td>-0.062497</td>\n",
              "      <td>-1.085649</td>\n",
              "      <td>0.834721</td>\n",
              "      <td>-0.164250</td>\n",
              "    </tr>\n",
              "    <tr>\n",
              "      <th>...</th>\n",
              "      <td>...</td>\n",
              "      <td>...</td>\n",
              "      <td>...</td>\n",
              "      <td>...</td>\n",
              "    </tr>\n",
              "    <tr>\n",
              "      <th>1367</th>\n",
              "      <td>-0.035272</td>\n",
              "      <td>-0.190625</td>\n",
              "      <td>-0.602479</td>\n",
              "      <td>0.060325</td>\n",
              "    </tr>\n",
              "    <tr>\n",
              "      <th>1368</th>\n",
              "      <td>-0.656197</td>\n",
              "      <td>-1.144854</td>\n",
              "      <td>1.153661</td>\n",
              "      <td>0.683946</td>\n",
              "    </tr>\n",
              "    <tr>\n",
              "      <th>1369</th>\n",
              "      <td>-1.447373</td>\n",
              "      <td>-2.290087</td>\n",
              "      <td>2.700610</td>\n",
              "      <td>-0.883825</td>\n",
              "    </tr>\n",
              "    <tr>\n",
              "      <th>1370</th>\n",
              "      <td>-1.385485</td>\n",
              "      <td>-1.623902</td>\n",
              "      <td>2.024283</td>\n",
              "      <td>-0.302272</td>\n",
              "    </tr>\n",
              "    <tr>\n",
              "      <th>1371</th>\n",
              "      <td>-1.044895</td>\n",
              "      <td>-0.527298</td>\n",
              "      <td>0.486269</td>\n",
              "      <td>1.533195</td>\n",
              "    </tr>\n",
              "  </tbody>\n",
              "</table>\n",
              "<p>1372 rows × 4 columns</p>\n",
              "</div>"
            ],
            "text/plain": [
              "             0         1         2         3\n",
              "0     1.133204  1.212720 -1.132179  0.124838\n",
              "1     1.475927  1.112536 -0.990018 -0.381900\n",
              "2     1.223608 -0.825521  0.332273  0.493421\n",
              "3     1.072264  1.385902 -1.650225 -1.146542\n",
              "4    -0.062497 -1.085649  0.834721 -0.164250\n",
              "...        ...       ...       ...       ...\n",
              "1367 -0.035272 -0.190625 -0.602479  0.060325\n",
              "1368 -0.656197 -1.144854  1.153661  0.683946\n",
              "1369 -1.447373 -2.290087  2.700610 -0.883825\n",
              "1370 -1.385485 -1.623902  2.024283 -0.302272\n",
              "1371 -1.044895 -0.527298  0.486269  1.533195\n",
              "\n",
              "[1372 rows x 4 columns]"
            ]
          },
          "metadata": {
            "tags": []
          },
          "execution_count": 27
        }
      ]
    },
    {
      "cell_type": "code",
      "metadata": {
        "colab": {
          "base_uri": "https://localhost:8080/"
        },
        "id": "gId9PBhIMKrh",
        "outputId": "d6b66569-d465-4f34-ef00-bba1d7e461f0"
      },
      "source": [
        "df_copy.skew()"
      ],
      "execution_count": 28,
      "outputs": [
        {
          "output_type": "execute_result",
          "data": {
            "text/plain": [
              "0   -0.069875\n",
              "1   -0.076854\n",
              "2    0.054702\n",
              "3    0.018215\n",
              "dtype: float64"
            ]
          },
          "metadata": {
            "tags": []
          },
          "execution_count": 28
        }
      ]
    },
    {
      "cell_type": "code",
      "metadata": {
        "id": "GAwrAJXTVerT"
      },
      "source": [
        "df_copy=pd.concat([df_copy,y],axis=1)"
      ],
      "execution_count": 29,
      "outputs": []
    },
    {
      "cell_type": "markdown",
      "metadata": {
        "id": "6EFPa_UrYzfu"
      },
      "source": [
        "Merging features and target data frame."
      ]
    },
    {
      "cell_type": "code",
      "metadata": {
        "colab": {
          "base_uri": "https://localhost:8080/",
          "height": 419
        },
        "id": "Ef-MUpfTV1Dx",
        "outputId": "4d141b53-e38b-4a34-f7e8-060b8025c012"
      },
      "source": [
        "df_copy"
      ],
      "execution_count": 30,
      "outputs": [
        {
          "output_type": "execute_result",
          "data": {
            "text/html": [
              "<div>\n",
              "<style scoped>\n",
              "    .dataframe tbody tr th:only-of-type {\n",
              "        vertical-align: middle;\n",
              "    }\n",
              "\n",
              "    .dataframe tbody tr th {\n",
              "        vertical-align: top;\n",
              "    }\n",
              "\n",
              "    .dataframe thead th {\n",
              "        text-align: right;\n",
              "    }\n",
              "</style>\n",
              "<table border=\"1\" class=\"dataframe\">\n",
              "  <thead>\n",
              "    <tr style=\"text-align: right;\">\n",
              "      <th></th>\n",
              "      <th>0</th>\n",
              "      <th>1</th>\n",
              "      <th>2</th>\n",
              "      <th>3</th>\n",
              "      <th>4</th>\n",
              "    </tr>\n",
              "  </thead>\n",
              "  <tbody>\n",
              "    <tr>\n",
              "      <th>0</th>\n",
              "      <td>1.133204</td>\n",
              "      <td>1.212720</td>\n",
              "      <td>-1.132179</td>\n",
              "      <td>0.124838</td>\n",
              "      <td>0</td>\n",
              "    </tr>\n",
              "    <tr>\n",
              "      <th>1</th>\n",
              "      <td>1.475927</td>\n",
              "      <td>1.112536</td>\n",
              "      <td>-0.990018</td>\n",
              "      <td>-0.381900</td>\n",
              "      <td>0</td>\n",
              "    </tr>\n",
              "    <tr>\n",
              "      <th>2</th>\n",
              "      <td>1.223608</td>\n",
              "      <td>-0.825521</td>\n",
              "      <td>0.332273</td>\n",
              "      <td>0.493421</td>\n",
              "      <td>0</td>\n",
              "    </tr>\n",
              "    <tr>\n",
              "      <th>3</th>\n",
              "      <td>1.072264</td>\n",
              "      <td>1.385902</td>\n",
              "      <td>-1.650225</td>\n",
              "      <td>-1.146542</td>\n",
              "      <td>0</td>\n",
              "    </tr>\n",
              "    <tr>\n",
              "      <th>4</th>\n",
              "      <td>-0.062497</td>\n",
              "      <td>-1.085649</td>\n",
              "      <td>0.834721</td>\n",
              "      <td>-0.164250</td>\n",
              "      <td>0</td>\n",
              "    </tr>\n",
              "    <tr>\n",
              "      <th>...</th>\n",
              "      <td>...</td>\n",
              "      <td>...</td>\n",
              "      <td>...</td>\n",
              "      <td>...</td>\n",
              "      <td>...</td>\n",
              "    </tr>\n",
              "    <tr>\n",
              "      <th>1367</th>\n",
              "      <td>-0.035272</td>\n",
              "      <td>-0.190625</td>\n",
              "      <td>-0.602479</td>\n",
              "      <td>0.060325</td>\n",
              "      <td>1</td>\n",
              "    </tr>\n",
              "    <tr>\n",
              "      <th>1368</th>\n",
              "      <td>-0.656197</td>\n",
              "      <td>-1.144854</td>\n",
              "      <td>1.153661</td>\n",
              "      <td>0.683946</td>\n",
              "      <td>1</td>\n",
              "    </tr>\n",
              "    <tr>\n",
              "      <th>1369</th>\n",
              "      <td>-1.447373</td>\n",
              "      <td>-2.290087</td>\n",
              "      <td>2.700610</td>\n",
              "      <td>-0.883825</td>\n",
              "      <td>1</td>\n",
              "    </tr>\n",
              "    <tr>\n",
              "      <th>1370</th>\n",
              "      <td>-1.385485</td>\n",
              "      <td>-1.623902</td>\n",
              "      <td>2.024283</td>\n",
              "      <td>-0.302272</td>\n",
              "      <td>1</td>\n",
              "    </tr>\n",
              "    <tr>\n",
              "      <th>1371</th>\n",
              "      <td>-1.044895</td>\n",
              "      <td>-0.527298</td>\n",
              "      <td>0.486269</td>\n",
              "      <td>1.533195</td>\n",
              "      <td>1</td>\n",
              "    </tr>\n",
              "  </tbody>\n",
              "</table>\n",
              "<p>1372 rows × 5 columns</p>\n",
              "</div>"
            ],
            "text/plain": [
              "             0         1         2         3  4\n",
              "0     1.133204  1.212720 -1.132179  0.124838  0\n",
              "1     1.475927  1.112536 -0.990018 -0.381900  0\n",
              "2     1.223608 -0.825521  0.332273  0.493421  0\n",
              "3     1.072264  1.385902 -1.650225 -1.146542  0\n",
              "4    -0.062497 -1.085649  0.834721 -0.164250  0\n",
              "...        ...       ...       ...       ... ..\n",
              "1367 -0.035272 -0.190625 -0.602479  0.060325  1\n",
              "1368 -0.656197 -1.144854  1.153661  0.683946  1\n",
              "1369 -1.447373 -2.290087  2.700610 -0.883825  1\n",
              "1370 -1.385485 -1.623902  2.024283 -0.302272  1\n",
              "1371 -1.044895 -0.527298  0.486269  1.533195  1\n",
              "\n",
              "[1372 rows x 5 columns]"
            ]
          },
          "metadata": {
            "tags": []
          },
          "execution_count": 30
        }
      ]
    },
    {
      "cell_type": "code",
      "metadata": {
        "colab": {
          "base_uri": "https://localhost:8080/",
          "height": 282
        },
        "id": "vgvpJlxkMKur",
        "outputId": "e986caad-d260-4884-f71d-55910d7a4620"
      },
      "source": [
        "df_copy[0].plot.box()"
      ],
      "execution_count": 31,
      "outputs": [
        {
          "output_type": "execute_result",
          "data": {
            "text/plain": [
              "<matplotlib.axes._subplots.AxesSubplot at 0x7fe70cbcecd0>"
            ]
          },
          "metadata": {
            "tags": []
          },
          "execution_count": 31
        },
        {
          "output_type": "display_data",
          "data": {
            "image/png": "[encoded data removed]",
            "text/plain": [
              "<Figure size 432x288 with 1 Axes>"
            ]
          },
          "metadata": {
            "tags": [],
            "needs_background": "light"
          }
        }
      ]
    },
    {
      "cell_type": "markdown",
      "metadata": {
        "id": "XqBb2tmdY4NX"
      },
      "source": [
        "checking outliers from the features column using box plot method. There is no outliers."
      ]
    },
    {
      "cell_type": "code",
      "metadata": {
        "colab": {
          "base_uri": "https://localhost:8080/",
          "height": 282
        },
        "id": "PcnAVOOTMKxP",
        "outputId": "ef5801c8-964b-4a7e-ee10-5e76956c4f84"
      },
      "source": [
        "df_copy[1].plot.box()"
      ],
      "execution_count": 32,
      "outputs": [
        {
          "output_type": "execute_result",
          "data": {
            "text/plain": [
              "<matplotlib.axes._subplots.AxesSubplot at 0x7fe70cb58950>"
            ]
          },
          "metadata": {
            "tags": []
          },
          "execution_count": 32
        },
        {
          "output_type": "display_data",
          "data": {
            "image/png": "[encoded data removed]",
            "text/plain": [
              "<Figure size 432x288 with 1 Axes>"
            ]
          },
          "metadata": {
            "tags": [],
            "needs_background": "light"
          }
        }
      ]
    },
    {
      "cell_type": "markdown",
      "metadata": {
        "id": "HHLuqFXyZBOv"
      },
      "source": [
        "checking outliers from the features column using box plot method. There is no outliers."
      ]
    },
    {
      "cell_type": "code",
      "metadata": {
        "colab": {
          "base_uri": "https://localhost:8080/",
          "height": 282
        },
        "id": "us_bLrjBNsr8",
        "outputId": "2c02ea58-50e2-4c8a-fd3a-b5ec74991f3c"
      },
      "source": [
        "df_copy[2].plot.box()"
      ],
      "execution_count": 33,
      "outputs": [
        {
          "output_type": "execute_result",
          "data": {
            "text/plain": [
              "<matplotlib.axes._subplots.AxesSubplot at 0x7fe70cb3bb50>"
            ]
          },
          "metadata": {
            "tags": []
          },
          "execution_count": 33
        },
        {
          "output_type": "display_data",
          "data": {
            "image/png": "[encoded data removed]",
            "text/plain": [
              "<Figure size 432x288 with 1 Axes>"
            ]
          },
          "metadata": {
            "tags": [],
            "needs_background": "light"
          }
        }
      ]
    },
    {
      "cell_type": "markdown",
      "metadata": {
        "id": "cumMITe8ZCvH"
      },
      "source": [
        "checking outliers from the features column using box plot method. There is some outliers."
      ]
    },
    {
      "cell_type": "code",
      "metadata": {
        "colab": {
          "base_uri": "https://localhost:8080/",
          "height": 282
        },
        "id": "EJdMHFMeNsvO",
        "outputId": "7efc0568-b5f3-4e12-b79d-1b7bfe3eff4a"
      },
      "source": [
        "df_copy[3].plot.box()"
      ],
      "execution_count": 34,
      "outputs": [
        {
          "output_type": "execute_result",
          "data": {
            "text/plain": [
              "<matplotlib.axes._subplots.AxesSubplot at 0x7fe71066ce10>"
            ]
          },
          "metadata": {
            "tags": []
          },
          "execution_count": 34
        },
        {
          "output_type": "display_data",
          "data": {
            "image/png": "[encoded data removed]",
            "text/plain": [
              "<Figure size 432x288 with 1 Axes>"
            ]
          },
          "metadata": {
            "tags": [],
            "needs_background": "light"
          }
        }
      ]
    },
    {
      "cell_type": "markdown",
      "metadata": {
        "id": "DQnUP4mvZGD_"
      },
      "source": [
        "checking outliers from the features column using box plot method. There is no outliers."
      ]
    },
    {
      "cell_type": "code",
      "metadata": {
        "colab": {
          "base_uri": "https://localhost:8080/",
          "height": 282
        },
        "id": "RvO9dIk3V69y",
        "outputId": "b17e7e50-6a2b-4b9f-fe05-19bad4bbde89"
      },
      "source": [
        "df_copy[4].plot.box()"
      ],
      "execution_count": 35,
      "outputs": [
        {
          "output_type": "execute_result",
          "data": {
            "text/plain": [
              "<matplotlib.axes._subplots.AxesSubplot at 0x7fe71069acd0>"
            ]
          },
          "metadata": {
            "tags": []
          },
          "execution_count": 35
        },
        {
          "output_type": "display_data",
          "data": {
            "image/png": "[encoded data removed]",
            "text/plain": [
              "<Figure size 432x288 with 1 Axes>"
            ]
          },
          "metadata": {
            "tags": [],
            "needs_background": "light"
          }
        }
      ]
    },
    {
      "cell_type": "code",
      "metadata": {
        "colab": {
          "base_uri": "https://localhost:8080/"
        },
        "id": "UCGC9ekfONQf",
        "outputId": "7c36cfd7-b9b8-447f-ec64-3abfe0de6fc5"
      },
      "source": [
        "df_copy.shape"
      ],
      "execution_count": 36,
      "outputs": [
        {
          "output_type": "execute_result",
          "data": {
            "text/plain": [
              "(1372, 5)"
            ]
          },
          "metadata": {
            "tags": []
          },
          "execution_count": 36
        }
      ]
    },
    {
      "cell_type": "code",
      "metadata": {
        "colab": {
          "base_uri": "https://localhost:8080/"
        },
        "id": "APqi5SxrNsyC",
        "outputId": "0b180e75-2fc9-40ee-c247-b3ea6d7a52e1"
      },
      "source": [
        "from scipy.stats import zscore\n",
        "import numpy as np\n",
        "z=np.abs(zscore(df_copy))\n",
        "threshold=3\n",
        "np.where(z>3)"
      ],
      "execution_count": 37,
      "outputs": [
        {
          "output_type": "execute_result",
          "data": {
            "text/plain": [
              "(array([413]), array([3]))"
            ]
          },
          "metadata": {
            "tags": []
          },
          "execution_count": 37
        }
      ]
    },
    {
      "cell_type": "markdown",
      "metadata": {
        "id": "2hHvwWs0ZK5h"
      },
      "source": [
        "Using z-score method to check the position where outliers are present."
      ]
    },
    {
      "cell_type": "code",
      "metadata": {
        "colab": {
          "base_uri": "https://localhost:8080/",
          "height": 419
        },
        "id": "P640H5RFODnz",
        "outputId": "74254d5a-0843-48eb-b549-9b0a3016a4e0"
      },
      "source": [
        "df_copy_new=df_copy[(z<3).all(axis=1)]\n",
        "df_copy_new"
      ],
      "execution_count": 38,
      "outputs": [
        {
          "output_type": "execute_result",
          "data": {
            "text/html": [
              "<div>\n",
              "<style scoped>\n",
              "    .dataframe tbody tr th:only-of-type {\n",
              "        vertical-align: middle;\n",
              "    }\n",
              "\n",
              "    .dataframe tbody tr th {\n",
              "        vertical-align: top;\n",
              "    }\n",
              "\n",
              "    .dataframe thead th {\n",
              "        text-align: right;\n",
              "    }\n",
              "</style>\n",
              "<table border=\"1\" class=\"dataframe\">\n",
              "  <thead>\n",
              "    <tr style=\"text-align: right;\">\n",
              "      <th></th>\n",
              "      <th>0</th>\n",
              "      <th>1</th>\n",
              "      <th>2</th>\n",
              "      <th>3</th>\n",
              "      <th>4</th>\n",
              "    </tr>\n",
              "  </thead>\n",
              "  <tbody>\n",
              "    <tr>\n",
              "      <th>0</th>\n",
              "      <td>1.133204</td>\n",
              "      <td>1.212720</td>\n",
              "      <td>-1.132179</td>\n",
              "      <td>0.124838</td>\n",
              "      <td>0</td>\n",
              "    </tr>\n",
              "    <tr>\n",
              "      <th>1</th>\n",
              "      <td>1.475927</td>\n",
              "      <td>1.112536</td>\n",
              "      <td>-0.990018</td>\n",
              "      <td>-0.381900</td>\n",
              "      <td>0</td>\n",
              "    </tr>\n",
              "    <tr>\n",
              "      <th>2</th>\n",
              "      <td>1.223608</td>\n",
              "      <td>-0.825521</td>\n",
              "      <td>0.332273</td>\n",
              "      <td>0.493421</td>\n",
              "      <td>0</td>\n",
              "    </tr>\n",
              "    <tr>\n",
              "      <th>3</th>\n",
              "      <td>1.072264</td>\n",
              "      <td>1.385902</td>\n",
              "      <td>-1.650225</td>\n",
              "      <td>-1.146542</td>\n",
              "      <td>0</td>\n",
              "    </tr>\n",
              "    <tr>\n",
              "      <th>4</th>\n",
              "      <td>-0.062497</td>\n",
              "      <td>-1.085649</td>\n",
              "      <td>0.834721</td>\n",
              "      <td>-0.164250</td>\n",
              "      <td>0</td>\n",
              "    </tr>\n",
              "    <tr>\n",
              "      <th>...</th>\n",
              "      <td>...</td>\n",
              "      <td>...</td>\n",
              "      <td>...</td>\n",
              "      <td>...</td>\n",
              "      <td>...</td>\n",
              "    </tr>\n",
              "    <tr>\n",
              "      <th>1367</th>\n",
              "      <td>-0.035272</td>\n",
              "      <td>-0.190625</td>\n",
              "      <td>-0.602479</td>\n",
              "      <td>0.060325</td>\n",
              "      <td>1</td>\n",
              "    </tr>\n",
              "    <tr>\n",
              "      <th>1368</th>\n",
              "      <td>-0.656197</td>\n",
              "      <td>-1.144854</td>\n",
              "      <td>1.153661</td>\n",
              "      <td>0.683946</td>\n",
              "      <td>1</td>\n",
              "    </tr>\n",
              "    <tr>\n",
              "      <th>1369</th>\n",
              "      <td>-1.447373</td>\n",
              "      <td>-2.290087</td>\n",
              "      <td>2.700610</td>\n",
              "      <td>-0.883825</td>\n",
              "      <td>1</td>\n",
              "    </tr>\n",
              "    <tr>\n",
              "      <th>1370</th>\n",
              "      <td>-1.385485</td>\n",
              "      <td>-1.623902</td>\n",
              "      <td>2.024283</td>\n",
              "      <td>-0.302272</td>\n",
              "      <td>1</td>\n",
              "    </tr>\n",
              "    <tr>\n",
              "      <th>1371</th>\n",
              "      <td>-1.044895</td>\n",
              "      <td>-0.527298</td>\n",
              "      <td>0.486269</td>\n",
              "      <td>1.533195</td>\n",
              "      <td>1</td>\n",
              "    </tr>\n",
              "  </tbody>\n",
              "</table>\n",
              "<p>1371 rows × 5 columns</p>\n",
              "</div>"
            ],
            "text/plain": [
              "             0         1         2         3  4\n",
              "0     1.133204  1.212720 -1.132179  0.124838  0\n",
              "1     1.475927  1.112536 -0.990018 -0.381900  0\n",
              "2     1.223608 -0.825521  0.332273  0.493421  0\n",
              "3     1.072264  1.385902 -1.650225 -1.146542  0\n",
              "4    -0.062497 -1.085649  0.834721 -0.164250  0\n",
              "...        ...       ...       ...       ... ..\n",
              "1367 -0.035272 -0.190625 -0.602479  0.060325  1\n",
              "1368 -0.656197 -1.144854  1.153661  0.683946  1\n",
              "1369 -1.447373 -2.290087  2.700610 -0.883825  1\n",
              "1370 -1.385485 -1.623902  2.024283 -0.302272  1\n",
              "1371 -1.044895 -0.527298  0.486269  1.533195  1\n",
              "\n",
              "[1371 rows x 5 columns]"
            ]
          },
          "metadata": {
            "tags": []
          },
          "execution_count": 38
        }
      ]
    },
    {
      "cell_type": "markdown",
      "metadata": {
        "id": "rZSblv-pZTvn"
      },
      "source": [
        "Removing outliers from the dataframe."
      ]
    },
    {
      "cell_type": "code",
      "metadata": {
        "colab": {
          "base_uri": "https://localhost:8080/"
        },
        "id": "TPn8jqI9ODq7",
        "outputId": "e31b9ec6-5331-400e-beae-8d3e714aaaaf"
      },
      "source": [
        "df_copy_new.shape"
      ],
      "execution_count": 39,
      "outputs": [
        {
          "output_type": "execute_result",
          "data": {
            "text/plain": [
              "(1371, 5)"
            ]
          },
          "metadata": {
            "tags": []
          },
          "execution_count": 39
        }
      ]
    },
    {
      "cell_type": "code",
      "metadata": {
        "id": "9QsLmYEaODuB"
      },
      "source": [
        "from sklearn.preprocessing import MinMaxScaler\n",
        "from sklearn.model_selection import train_test_split"
      ],
      "execution_count": 40,
      "outputs": []
    },
    {
      "cell_type": "markdown",
      "metadata": {
        "id": "GDRD5Z-9ZXhH"
      },
      "source": [
        "Importing libraries to scale the data and separate it into training, testing and validating data."
      ]
    },
    {
      "cell_type": "code",
      "metadata": {
        "id": "u-TZoewaOcCs"
      },
      "source": [
        "X=df_copy_new.iloc[:,:-1].values\n",
        "Y=df_copy_new.iloc[:,-1].values\n",
        "x_train,x_test,y_train,y_test=train_test_split(X,Y,test_size=0.2,random_state=42)\n",
        "x_train,x_val,y_train,y_val=train_test_split(x_train,y_train,test_size=0.2,random_state=42)"
      ],
      "execution_count": 100,
      "outputs": []
    },
    {
      "cell_type": "markdown",
      "metadata": {
        "id": "Qo_MudqUZgun"
      },
      "source": [
        "Splitting the data into training, testing and validation."
      ]
    },
    {
      "cell_type": "code",
      "metadata": {
        "id": "Oi9SuzeeOcFc"
      },
      "source": [
        "mms=MinMaxScaler()"
      ],
      "execution_count": 101,
      "outputs": []
    },
    {
      "cell_type": "code",
      "metadata": {
        "id": "nP7HJzjhOcIg"
      },
      "source": [
        "x_train=mms.fit_transform(x_train)\n",
        "x_test=mms.transform(x_test)\n",
        "x_val=mms.transform(x_val)"
      ],
      "execution_count": 102,
      "outputs": []
    },
    {
      "cell_type": "markdown",
      "metadata": {
        "id": "f399Wq4iZniu"
      },
      "source": [
        "Applying scaling technique on the data."
      ]
    },
    {
      "cell_type": "code",
      "metadata": {
        "id": "_zJKOmhXOcLV"
      },
      "source": [
        "import warnings\n",
        "warnings.filterwarnings('ignore')"
      ],
      "execution_count": 103,
      "outputs": []
    },
    {
      "cell_type": "markdown",
      "metadata": {
        "id": "jNH9Xyb7Zsie"
      },
      "source": [
        "It helps in removing the warning."
      ]
    },
    {
      "cell_type": "code",
      "metadata": {
        "colab": {
          "base_uri": "https://localhost:8080/"
        },
        "id": "foL-x-aoJjo7",
        "outputId": "48ef9b56-b711-431f-8fc1-7ea046fb4a56"
      },
      "source": [
        "n_features=4\n",
        "model = Sequential()\n",
        "model.add(Dense(10, activation='relu', kernel_initializer='he_normal', input_shape=(n_features,)))\n",
        "model.add(Dense(1000, activation='relu'))\n",
        "model.add(Dense(100, activation='relu'))\n",
        "model.add(Dense(10, activation='relu'))\n",
        "model.add(Dense(1, activation='sigmoid'))\n",
        "model.summary()"
      ],
      "execution_count": 104,
      "outputs": [
        {
          "output_type": "stream",
          "text": [
            "Model: \"sequential_5\"\n",
            "_________________________________________________________________\n",
            "Layer (type)                 Output Shape              Param #   \n",
            "=================================================================\n",
            "dense_25 (Dense)             (None, 10)                50        \n",
            "_________________________________________________________________\n",
            "dense_26 (Dense)             (None, 1000)              11000     \n",
            "_________________________________________________________________\n",
            "dense_27 (Dense)             (None, 100)               100100    \n",
            "_________________________________________________________________\n",
            "dense_28 (Dense)             (None, 10)                1010      \n",
            "_________________________________________________________________\n",
            "dense_29 (Dense)             (None, 1)                 11        \n",
            "=================================================================\n",
            "Total params: 112,171\n",
            "Trainable params: 112,171\n",
            "Non-trainable params: 0\n",
            "_________________________________________________________________\n"
          ],
          "name": "stdout"
        }
      ]
    },
    {
      "cell_type": "markdown",
      "metadata": {
        "id": "J-RNWggwZwVv"
      },
      "source": [
        "Creating a sequential layer for deep learning network. n_features is set to 4 because the total number of parameter in the feature column is 4. \n",
        "In the first layer i.e input layer we are adding 4 neurons and using relu activation function and kernel initializer as he_normal. \n",
        "In the first hidden layer we are adding 1000 neurons with relu activation function.\n",
        "In the second hidden layer we are adding 100 neurons with relu activation function.\n",
        "In the third hidden layer we are adding 10 neurons with relu activation function.\n",
        "In the output layer we are using one neuron since its a binary classification problem. Sigmoid activation function works good in case of binary activation function as its range is [0,1]."
      ]
    },
    {
      "cell_type": "code",
      "metadata": {
        "id": "7UdKOq8fJjrv"
      },
      "source": [
        "model.compile(optimizer='adam', loss='binary_crossentropy',metrics=[\"accuracy\"])"
      ],
      "execution_count": 105,
      "outputs": []
    },
    {
      "cell_type": "markdown",
      "metadata": {
        "id": "SKtkvNida8Ym"
      },
      "source": [
        "During the compilation we are using ADAM optimizers as it has both variable learning rate and momentum. Here, loss will be binary cross entropy as it is a binary classification problem. The metrics used here is accuracy."
      ]
    },
    {
      "cell_type": "code",
      "metadata": {
        "colab": {
          "base_uri": "https://localhost:8080/"
        },
        "id": "BsHVGjQnSSqh",
        "outputId": "d1ec388a-feb3-484f-f1d3-f835e35cd275"
      },
      "source": [
        "history = model.fit(x_train, y_train, epochs=17, batch_size=10,validation_split=0.2,verbose=2, validation_data=(x_val, y_val))"
      ],
      "execution_count": 106,
      "outputs": [
        {
          "output_type": "stream",
          "text": [
            "Epoch 1/17\n",
            "70/70 - 1s - loss: 0.5766 - accuracy: 0.6729 - val_loss: 0.4559 - val_accuracy: 0.8011\n",
            "Epoch 2/17\n",
            "70/70 - 0s - loss: 0.3424 - accuracy: 0.8871 - val_loss: 0.2735 - val_accuracy: 0.8977\n",
            "Epoch 3/17\n",
            "70/70 - 0s - loss: 0.2229 - accuracy: 0.9086 - val_loss: 0.1785 - val_accuracy: 0.9489\n",
            "Epoch 4/17\n",
            "70/70 - 0s - loss: 0.1067 - accuracy: 0.9771 - val_loss: 0.1330 - val_accuracy: 0.9659\n",
            "Epoch 5/17\n",
            "70/70 - 0s - loss: 0.0654 - accuracy: 0.9886 - val_loss: 0.1581 - val_accuracy: 0.9545\n",
            "Epoch 6/17\n",
            "70/70 - 0s - loss: 0.0484 - accuracy: 0.9814 - val_loss: 0.0438 - val_accuracy: 0.9830\n",
            "Epoch 7/17\n",
            "70/70 - 0s - loss: 0.0303 - accuracy: 0.9943 - val_loss: 0.0675 - val_accuracy: 0.9659\n",
            "Epoch 8/17\n",
            "70/70 - 0s - loss: 0.0349 - accuracy: 0.9871 - val_loss: 0.0170 - val_accuracy: 1.0000\n",
            "Epoch 9/17\n",
            "70/70 - 0s - loss: 0.0166 - accuracy: 0.9986 - val_loss: 0.0145 - val_accuracy: 1.0000\n",
            "Epoch 10/17\n",
            "70/70 - 0s - loss: 0.0148 - accuracy: 0.9971 - val_loss: 0.0303 - val_accuracy: 0.9886\n",
            "Epoch 11/17\n",
            "70/70 - 0s - loss: 0.0101 - accuracy: 1.0000 - val_loss: 0.0081 - val_accuracy: 1.0000\n",
            "Epoch 12/17\n",
            "70/70 - 0s - loss: 0.0178 - accuracy: 0.9943 - val_loss: 0.0076 - val_accuracy: 1.0000\n",
            "Epoch 13/17\n",
            "70/70 - 0s - loss: 0.0094 - accuracy: 0.9986 - val_loss: 0.0610 - val_accuracy: 0.9659\n",
            "Epoch 14/17\n",
            "70/70 - 0s - loss: 0.0136 - accuracy: 0.9971 - val_loss: 0.0119 - val_accuracy: 0.9943\n",
            "Epoch 15/17\n",
            "70/70 - 0s - loss: 0.0053 - accuracy: 0.9986 - val_loss: 0.0043 - val_accuracy: 1.0000\n",
            "Epoch 16/17\n",
            "70/70 - 0s - loss: 0.0434 - accuracy: 0.9814 - val_loss: 0.0111 - val_accuracy: 1.0000\n",
            "Epoch 17/17\n",
            "70/70 - 0s - loss: 0.0204 - accuracy: 0.9929 - val_loss: 0.0063 - val_accuracy: 1.0000\n"
          ],
          "name": "stdout"
        }
      ]
    },
    {
      "cell_type": "markdown",
      "metadata": {
        "id": "43exxVDga-aJ"
      },
      "source": [
        "Since we are getting maximum accuracy at epoch 17, and min loss so we are saving these parameters. Here batch size is 10 and verbose is 2 for better visualization of epoch."
      ]
    },
    {
      "cell_type": "code",
      "metadata": {
        "id": "SEHzeX75Jjuk"
      },
      "source": [
        "yhat = model.predict_classes(x_test)"
      ],
      "execution_count": 107,
      "outputs": []
    },
    {
      "cell_type": "markdown",
      "metadata": {
        "id": "57PFU1bYbSLw"
      },
      "source": [
        "Predicting the classes of test data."
      ]
    },
    {
      "cell_type": "code",
      "metadata": {
        "id": "rCetBy2KT-4P",
        "colab": {
          "base_uri": "https://localhost:8080/"
        },
        "outputId": "4cc3f4b2-a74d-4e03-92da-68752bae8506"
      },
      "source": [
        "accuracy_score(y_test, yhat)"
      ],
      "execution_count": 119,
      "outputs": [
        {
          "output_type": "execute_result",
          "data": {
            "text/plain": [
              "1.0"
            ]
          },
          "metadata": {
            "tags": []
          },
          "execution_count": 119
        }
      ]
    },
    {
      "cell_type": "code",
      "metadata": {
        "colab": {
          "base_uri": "https://localhost:8080/"
        },
        "id": "m7X_AjxsbhM3",
        "outputId": "ef592da1-57bd-4df9-ce0d-95489932a2d7"
      },
      "source": [
        "accuracy_score(y_train, model.predict_classes(x_train))"
      ],
      "execution_count": 120,
      "outputs": [
        {
          "output_type": "execute_result",
          "data": {
            "text/plain": [
              "1.0"
            ]
          },
          "metadata": {
            "tags": []
          },
          "execution_count": 120
        }
      ]
    },
    {
      "cell_type": "markdown",
      "metadata": {
        "id": "OHGsTVvbbWH3"
      },
      "source": [
        "Checking the score of test and train data."
      ]
    },
    {
      "cell_type": "code",
      "metadata": {
        "colab": {
          "base_uri": "https://localhost:8080/"
        },
        "id": "VNxb5C11QQJy",
        "outputId": "e0b08562-183d-4817-8990-ccd275c99a26"
      },
      "source": [
        "from sklearn.metrics import f1_score\n",
        "f1_score(yhat,y_test)"
      ],
      "execution_count": 110,
      "outputs": [
        {
          "output_type": "execute_result",
          "data": {
            "text/plain": [
              "1.0"
            ]
          },
          "metadata": {
            "tags": []
          },
          "execution_count": 110
        }
      ]
    },
    {
      "cell_type": "markdown",
      "metadata": {
        "id": "uJ0XcWugbuYf"
      },
      "source": [
        "Checking f1_score of train and test data."
      ]
    },
    {
      "cell_type": "code",
      "metadata": {
        "colab": {
          "base_uri": "https://localhost:8080/"
        },
        "id": "k0GCqv05QtC6",
        "outputId": "f5c4edc5-a7a8-47c9-ce13-0992c7a3ab52"
      },
      "source": [
        "f1_score(model.predict_classes(x_train),y_train)"
      ],
      "execution_count": 111,
      "outputs": [
        {
          "output_type": "execute_result",
          "data": {
            "text/plain": [
              "1.0"
            ]
          },
          "metadata": {
            "tags": []
          },
          "execution_count": 111
        }
      ]
    },
    {
      "cell_type": "markdown",
      "metadata": {
        "id": "emJyAdiYb3YZ"
      },
      "source": [
        "checking the parameters of compilation model."
      ]
    },
    {
      "cell_type": "code",
      "metadata": {
        "colab": {
          "base_uri": "https://localhost:8080/"
        },
        "id": "g1rvhafZcYok",
        "outputId": "7248d0a6-cbdf-4009-ced1-b534604286b4"
      },
      "source": [
        "print(history.history.keys())"
      ],
      "execution_count": 112,
      "outputs": [
        {
          "output_type": "stream",
          "text": [
            "dict_keys(['loss', 'accuracy', 'val_loss', 'val_accuracy'])\n"
          ],
          "name": "stdout"
        }
      ]
    },
    {
      "cell_type": "code",
      "metadata": {
        "id": "9W-m4Q2BSkPa"
      },
      "source": [
        "import matplotlib.pyplot as plt"
      ],
      "execution_count": 114,
      "outputs": []
    },
    {
      "cell_type": "code",
      "metadata": {
        "colab": {
          "base_uri": "https://localhost:8080/",
          "height": 295
        },
        "id": "MFuvkzXWRsCz",
        "outputId": "af53f402-b7cf-4c3d-e539-0c1490d50d46"
      },
      "source": [
        "plt.plot(history.history['accuracy'])\n",
        "plt.plot(history.history['val_accuracy'])\n",
        "plt.title('model accuracy')\n",
        "plt.ylabel('accuracy')\n",
        "plt.xlabel('epoch')\n",
        "plt.legend(['train', 'test'], loc='upper left')\n",
        "plt.show()"
      ],
      "execution_count": 115,
      "outputs": [
        {
          "output_type": "display_data",
          "data": {
            "image/png": "[encoded data removed]",
            "text/plain": [
              "<Figure size 432x288 with 1 Axes>"
            ]
          },
          "metadata": {
            "tags": [],
            "needs_background": "light"
          }
        }
      ]
    },
    {
      "cell_type": "markdown",
      "metadata": {
        "id": "ry2_GAm3b_A3"
      },
      "source": [
        "Plotting accuracy vs epoch."
      ]
    },
    {
      "cell_type": "code",
      "metadata": {
        "colab": {
          "base_uri": "https://localhost:8080/",
          "height": 295
        },
        "id": "AcRMwHP-RsGR",
        "outputId": "c12d3505-c7ac-45e3-b09d-eb434033f9a8"
      },
      "source": [
        "plt.plot(history.history['loss'])\n",
        "plt.plot(history.history['val_loss'])\n",
        "plt.title('model loss')\n",
        "plt.ylabel('loss')\n",
        "plt.xlabel('epoch')\n",
        "plt.legend(['train', 'test'], loc='upper left')\n",
        "plt.show()"
      ],
      "execution_count": 116,
      "outputs": [
        {
          "output_type": "display_data",
          "data": {
            "image/png": "[encoded data removed]",
            "text/plain": [
              "<Figure size 432x288 with 1 Axes>"
            ]
          },
          "metadata": {
            "tags": [],
            "needs_background": "light"
          }
        }
      ]
    },
    {
      "cell_type": "markdown",
      "metadata": {
        "id": "0Bc_pMLScCIm"
      },
      "source": [
        "Plotting epoch vs loss."
      ]
    },
    {
      "cell_type": "code",
      "metadata": {
        "id": "8vEM1cDcRsIl"
      },
      "source": [
        ""
      ],
      "execution_count": null,
      "outputs": []
    }
  ]
}